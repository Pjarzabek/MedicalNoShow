{
 "cells": [
  {
   "cell_type": "markdown",
   "metadata": {},
   "source": [
    "## Preparing dataset\n",
    "Is it possible to predict if patient will show up after making a medical appointment? \n",
    "\n",
    "The dataset is available on Kaggle, you can get it over [here](https://www.kaggle.com/joniarroba/noshowappointments)"
   ]
  },
  {
   "cell_type": "code",
   "execution_count": 1,
   "metadata": {},
   "outputs": [],
   "source": [
    "import pandas as pd\n",
    "import matplotlib.pyplot as plt\n",
    "import seaborn as sns\n",
    "import numpy as np\n",
    "%matplotlib inline"
   ]
  },
  {
   "cell_type": "code",
   "execution_count": 2,
   "metadata": {},
   "outputs": [
    {
     "data": {
      "text/html": [
       "<div>\n",
       "<style scoped>\n",
       "    .dataframe tbody tr th:only-of-type {\n",
       "        vertical-align: middle;\n",
       "    }\n",
       "\n",
       "    .dataframe tbody tr th {\n",
       "        vertical-align: top;\n",
       "    }\n",
       "\n",
       "    .dataframe thead th {\n",
       "        text-align: right;\n",
       "    }\n",
       "</style>\n",
       "<table border=\"1\" class=\"dataframe\">\n",
       "  <thead>\n",
       "    <tr style=\"text-align: right;\">\n",
       "      <th></th>\n",
       "      <th>PatientId</th>\n",
       "      <th>AppointmentID</th>\n",
       "      <th>Gender</th>\n",
       "      <th>ScheduledDay</th>\n",
       "      <th>AppointmentDay</th>\n",
       "      <th>Age</th>\n",
       "      <th>Neighbourhood</th>\n",
       "      <th>Scholarship</th>\n",
       "      <th>Hipertension</th>\n",
       "      <th>Diabetes</th>\n",
       "      <th>Alcoholism</th>\n",
       "      <th>Handcap</th>\n",
       "      <th>SMS_received</th>\n",
       "      <th>No-show</th>\n",
       "    </tr>\n",
       "  </thead>\n",
       "  <tbody>\n",
       "    <tr>\n",
       "      <th>0</th>\n",
       "      <td>2.987250e+13</td>\n",
       "      <td>5642903</td>\n",
       "      <td>F</td>\n",
       "      <td>2016-04-29T18:38:08Z</td>\n",
       "      <td>2016-04-29T00:00:00Z</td>\n",
       "      <td>62</td>\n",
       "      <td>JARDIM DA PENHA</td>\n",
       "      <td>0</td>\n",
       "      <td>1</td>\n",
       "      <td>0</td>\n",
       "      <td>0</td>\n",
       "      <td>0</td>\n",
       "      <td>0</td>\n",
       "      <td>No</td>\n",
       "    </tr>\n",
       "    <tr>\n",
       "      <th>1</th>\n",
       "      <td>5.589978e+14</td>\n",
       "      <td>5642503</td>\n",
       "      <td>M</td>\n",
       "      <td>2016-04-29T16:08:27Z</td>\n",
       "      <td>2016-04-29T00:00:00Z</td>\n",
       "      <td>56</td>\n",
       "      <td>JARDIM DA PENHA</td>\n",
       "      <td>0</td>\n",
       "      <td>0</td>\n",
       "      <td>0</td>\n",
       "      <td>0</td>\n",
       "      <td>0</td>\n",
       "      <td>0</td>\n",
       "      <td>No</td>\n",
       "    </tr>\n",
       "    <tr>\n",
       "      <th>2</th>\n",
       "      <td>4.262962e+12</td>\n",
       "      <td>5642549</td>\n",
       "      <td>F</td>\n",
       "      <td>2016-04-29T16:19:04Z</td>\n",
       "      <td>2016-04-29T00:00:00Z</td>\n",
       "      <td>62</td>\n",
       "      <td>MATA DA PRAIA</td>\n",
       "      <td>0</td>\n",
       "      <td>0</td>\n",
       "      <td>0</td>\n",
       "      <td>0</td>\n",
       "      <td>0</td>\n",
       "      <td>0</td>\n",
       "      <td>No</td>\n",
       "    </tr>\n",
       "    <tr>\n",
       "      <th>3</th>\n",
       "      <td>8.679512e+11</td>\n",
       "      <td>5642828</td>\n",
       "      <td>F</td>\n",
       "      <td>2016-04-29T17:29:31Z</td>\n",
       "      <td>2016-04-29T00:00:00Z</td>\n",
       "      <td>8</td>\n",
       "      <td>PONTAL DE CAMBURI</td>\n",
       "      <td>0</td>\n",
       "      <td>0</td>\n",
       "      <td>0</td>\n",
       "      <td>0</td>\n",
       "      <td>0</td>\n",
       "      <td>0</td>\n",
       "      <td>No</td>\n",
       "    </tr>\n",
       "    <tr>\n",
       "      <th>4</th>\n",
       "      <td>8.841186e+12</td>\n",
       "      <td>5642494</td>\n",
       "      <td>F</td>\n",
       "      <td>2016-04-29T16:07:23Z</td>\n",
       "      <td>2016-04-29T00:00:00Z</td>\n",
       "      <td>56</td>\n",
       "      <td>JARDIM DA PENHA</td>\n",
       "      <td>0</td>\n",
       "      <td>1</td>\n",
       "      <td>1</td>\n",
       "      <td>0</td>\n",
       "      <td>0</td>\n",
       "      <td>0</td>\n",
       "      <td>No</td>\n",
       "    </tr>\n",
       "  </tbody>\n",
       "</table>\n",
       "</div>"
      ],
      "text/plain": [
       "      PatientId  AppointmentID Gender          ScheduledDay  \\\n",
       "0  2.987250e+13        5642903      F  2016-04-29T18:38:08Z   \n",
       "1  5.589978e+14        5642503      M  2016-04-29T16:08:27Z   \n",
       "2  4.262962e+12        5642549      F  2016-04-29T16:19:04Z   \n",
       "3  8.679512e+11        5642828      F  2016-04-29T17:29:31Z   \n",
       "4  8.841186e+12        5642494      F  2016-04-29T16:07:23Z   \n",
       "\n",
       "         AppointmentDay  Age      Neighbourhood  Scholarship  Hipertension  \\\n",
       "0  2016-04-29T00:00:00Z   62    JARDIM DA PENHA            0             1   \n",
       "1  2016-04-29T00:00:00Z   56    JARDIM DA PENHA            0             0   \n",
       "2  2016-04-29T00:00:00Z   62      MATA DA PRAIA            0             0   \n",
       "3  2016-04-29T00:00:00Z    8  PONTAL DE CAMBURI            0             0   \n",
       "4  2016-04-29T00:00:00Z   56    JARDIM DA PENHA            0             1   \n",
       "\n",
       "   Diabetes  Alcoholism  Handcap  SMS_received No-show  \n",
       "0         0           0        0             0      No  \n",
       "1         0           0        0             0      No  \n",
       "2         0           0        0             0      No  \n",
       "3         0           0        0             0      No  \n",
       "4         1           0        0             0      No  "
      ]
     },
     "execution_count": 2,
     "metadata": {},
     "output_type": "execute_result"
    }
   ],
   "source": [
    "appointments = pd.read_csv('Appointments.csv')\n",
    "appointments.head()"
   ]
  },
  {
   "cell_type": "markdown",
   "metadata": {},
   "source": [
    "The names of columns have typos and they doesn't follow the same naming convention."
   ]
  },
  {
   "cell_type": "code",
   "execution_count": 3,
   "metadata": {},
   "outputs": [],
   "source": [
    "appointments.columns = ['patient_id', 'appointment_id', 'gender', 'scheduled_day', \n",
    "                        'appointment_day', 'age', 'neighbourhood', 'scholarship', 'hypertension',\n",
    "                        'diabetes', 'alcoholism', 'handicap', 'sms_received', 'no_show']"
   ]
  },
  {
   "cell_type": "code",
   "execution_count": 4,
   "metadata": {},
   "outputs": [
    {
     "data": {
      "text/plain": [
       "(110527, 14)"
      ]
     },
     "execution_count": 4,
     "metadata": {},
     "output_type": "execute_result"
    }
   ],
   "source": [
    "appointments.shape"
   ]
  },
  {
   "cell_type": "markdown",
   "metadata": {},
   "source": [
    "The dataset has over 110k rows and 14 columns:\n",
    "- __patient_id__ and __appointment_id__: Unique values for each patient and appointment\n",
    "- __gender__: (F)emale or (M)ale\n",
    "- __scheduled_day__: Day and time of scheduling appointment\n",
    "- __appointment_day__: Day of appointment (no time!)\n",
    "- __age__: Age of the patient\n",
    "- __neighbourhood__: District of Vitoria, Brazil, where data was collected\n",
    "- __scholarship__: Whether the patient is the part of [Bolsa Família](https://en.wikipedia.org/wiki/Bolsa_Fam%C3%ADlia) - Brazilian financial aid program\n",
    "- __hypertension__, __diabetes__, __alcoholism__: Whether the patient has hypertension, diabetes or is an alcoholic\n",
    "- __handicap__: 0 means no handicap, higher the value, more serious are disabilities (up to 4)\n",
    "- __sms_received__: one or more messages sent to the patient\n",
    "- __no_show__: \"Yes\" if no-show, \"No\" if patient arrived"
   ]
  },
  {
   "cell_type": "code",
   "execution_count": 5,
   "metadata": {},
   "outputs": [
    {
     "data": {
      "text/plain": [
       "patient_id         float64\n",
       "appointment_id       int64\n",
       "gender              object\n",
       "scheduled_day       object\n",
       "appointment_day     object\n",
       "age                  int64\n",
       "neighbourhood       object\n",
       "scholarship          int64\n",
       "hypertension         int64\n",
       "diabetes             int64\n",
       "alcoholism           int64\n",
       "handicap             int64\n",
       "sms_received         int64\n",
       "no_show             object\n",
       "dtype: object"
      ]
     },
     "execution_count": 5,
     "metadata": {},
     "output_type": "execute_result"
    }
   ],
   "source": [
    "appointments.dtypes"
   ]
  },
  {
   "cell_type": "markdown",
   "metadata": {},
   "source": [
    "*Gender* and *neighbourhood* columns should be categorical, but we need *gender* as integers so it could work as a feature in our models. "
   ]
  },
  {
   "cell_type": "code",
   "execution_count": 6,
   "metadata": {},
   "outputs": [],
   "source": [
    "cols = ['gender', 'neighbourhood']\n",
    "\n",
    "for col in cols:\n",
    "    appointments[col] = appointments[col].astype('category')\n",
    "\n",
    "cat = pd.Categorical(appointments['gender'])\n",
    "appointments['gender'] = cat.codes"
   ]
  },
  {
   "cell_type": "markdown",
   "metadata": {},
   "source": [
    "We need to map *no_show* column and convert it to integer."
   ]
  },
  {
   "cell_type": "code",
   "execution_count": 7,
   "metadata": {},
   "outputs": [],
   "source": [
    "appointments['no_show'] = appointments['no_show'].eq('Yes') # Check if element is equal to \"Yes\" and returns boolean values.\n",
    "appointments['no_show'] = appointments['no_show'].astype('int64')"
   ]
  },
  {
   "cell_type": "markdown",
   "metadata": {},
   "source": [
    "*Scheduled_day* and *appointment_day* columns are datetime."
   ]
  },
  {
   "cell_type": "code",
   "execution_count": 8,
   "metadata": {},
   "outputs": [
    {
     "data": {
      "text/plain": [
       "patient_id                float64\n",
       "appointment_id              int64\n",
       "gender                       int8\n",
       "scheduled_day      datetime64[ns]\n",
       "appointment_day    datetime64[ns]\n",
       "age                         int64\n",
       "neighbourhood            category\n",
       "scholarship                 int64\n",
       "hypertension                int64\n",
       "diabetes                    int64\n",
       "alcoholism                  int64\n",
       "handicap                    int64\n",
       "sms_received                int64\n",
       "no_show                     int64\n",
       "dtype: object"
      ]
     },
     "execution_count": 8,
     "metadata": {},
     "output_type": "execute_result"
    }
   ],
   "source": [
    "cols = ['scheduled_day', 'appointment_day']\n",
    "for col in cols:\n",
    "    appointments[col] = appointments[col].astype('datetime64[ns]')\n",
    "appointments.dtypes"
   ]
  },
  {
   "cell_type": "code",
   "execution_count": 9,
   "metadata": {},
   "outputs": [
    {
     "name": "stdout",
     "output_type": "stream",
     "text": [
      "<class 'pandas.core.frame.DataFrame'>\n",
      "RangeIndex: 110527 entries, 0 to 110526\n",
      "Data columns (total 14 columns):\n",
      "patient_id         110527 non-null float64\n",
      "appointment_id     110527 non-null int64\n",
      "gender             110527 non-null int8\n",
      "scheduled_day      110527 non-null datetime64[ns]\n",
      "appointment_day    110527 non-null datetime64[ns]\n",
      "age                110527 non-null int64\n",
      "neighbourhood      110527 non-null category\n",
      "scholarship        110527 non-null int64\n",
      "hypertension       110527 non-null int64\n",
      "diabetes           110527 non-null int64\n",
      "alcoholism         110527 non-null int64\n",
      "handicap           110527 non-null int64\n",
      "sms_received       110527 non-null int64\n",
      "no_show            110527 non-null int64\n",
      "dtypes: category(1), datetime64[ns](2), float64(1), int64(9), int8(1)\n",
      "memory usage: 10.3 MB\n"
     ]
    }
   ],
   "source": [
    "appointments.info()"
   ]
  },
  {
   "cell_type": "markdown",
   "metadata": {},
   "source": [
    "There are no null values in the dataset. For some reason *patient_id* is float instead of integer but it doesn't matter because we won't use it in our predictions."
   ]
  },
  {
   "cell_type": "code",
   "execution_count": 10,
   "metadata": {},
   "outputs": [
    {
     "name": "stdout",
     "output_type": "stream",
     "text": [
      "gender\n",
      "Unique values:\n",
      "[0 1]\n",
      "Proportions:\n",
      "0    0.649977\n",
      "1    0.350023\n",
      "Name: gender, dtype: float64\n",
      "\n",
      "\n",
      "scholarship\n",
      "Unique values:\n",
      "[0 1]\n",
      "Proportions:\n",
      "0    0.901734\n",
      "1    0.098266\n",
      "Name: scholarship, dtype: float64\n",
      "\n",
      "\n",
      "hypertension\n",
      "Unique values:\n",
      "[1 0]\n",
      "Proportions:\n",
      "0    0.802754\n",
      "1    0.197246\n",
      "Name: hypertension, dtype: float64\n",
      "\n",
      "\n",
      "diabetes\n",
      "Unique values:\n",
      "[0 1]\n",
      "Proportions:\n",
      "0    0.928135\n",
      "1    0.071865\n",
      "Name: diabetes, dtype: float64\n",
      "\n",
      "\n",
      "alcoholism\n",
      "Unique values:\n",
      "[0 1]\n",
      "Proportions:\n",
      "0    0.9696\n",
      "1    0.0304\n",
      "Name: alcoholism, dtype: float64\n",
      "\n",
      "\n",
      "handicap\n",
      "Unique values:\n",
      "[0 1 2 3 4]\n",
      "Proportions:\n",
      "0    0.979724\n",
      "1    0.018475\n",
      "2    0.001656\n",
      "3    0.000118\n",
      "4    0.000027\n",
      "Name: handicap, dtype: float64\n",
      "\n",
      "\n",
      "sms_received\n",
      "Unique values:\n",
      "[0 1]\n",
      "Proportions:\n",
      "0    0.678974\n",
      "1    0.321026\n",
      "Name: sms_received, dtype: float64\n",
      "\n",
      "\n"
     ]
    }
   ],
   "source": [
    "variables = ['gender', 'scholarship', 'hypertension', 'diabetes', 'alcoholism', 'handicap', 'sms_received']\n",
    "for variable in variables:\n",
    "    print(variable)\n",
    "    print(\"Unique values:\")\n",
    "    print(appointments[variable].unique())\n",
    "    print(\"Proportions:\")\n",
    "    print(appointments[variable].value_counts(normalize=True))\n",
    "    print('\\n')"
   ]
  },
  {
   "cell_type": "markdown",
   "metadata": {},
   "source": [
    "Almost 2 out of 3 patients are **women**.\n",
    "\n",
    "Almost 10% of patients receive **government aid** in form of Bolsa Familia.\n",
    "\n",
    "Almost 20% patients have **hypertension**.\n",
    "\n",
    "7% of patients have **diabetes**.\n",
    "\n",
    "3% of patients are **alcoholics**.\n",
    "\n",
    "2% of patients have different kind of **disabillities**.\n",
    "\n",
    "Almost 1/3 of patients **received SMS** reminding them about the visit.\n",
    "\n",
    "Looks like the data in these columns is good and doesn't need any fixing. "
   ]
  },
  {
   "cell_type": "code",
   "execution_count": 11,
   "metadata": {},
   "outputs": [
    {
     "data": {
      "text/plain": [
       "count    110527.000000\n",
       "mean         37.088874\n",
       "std          23.110205\n",
       "min          -1.000000\n",
       "25%          18.000000\n",
       "50%          37.000000\n",
       "75%          55.000000\n",
       "max         115.000000\n",
       "Name: age, dtype: float64"
      ]
     },
     "execution_count": 11,
     "metadata": {},
     "output_type": "execute_result"
    }
   ],
   "source": [
    "appointments['age'].describe()"
   ]
  },
  {
   "cell_type": "markdown",
   "metadata": {},
   "source": [
    "There is a value of -1 which cannot happen. Also the probability of patients older than 100 years in such a small dataset is extremely small, so I will delete them too. "
   ]
  },
  {
   "cell_type": "code",
   "execution_count": 12,
   "metadata": {},
   "outputs": [
    {
     "data": {
      "text/plain": [
       "(110519, 14)"
      ]
     },
     "execution_count": 12,
     "metadata": {},
     "output_type": "execute_result"
    }
   ],
   "source": [
    "appointments = appointments[(appointments['age'] >= 0) & (appointments['age'] <= 100)]\n",
    "appointments.shape"
   ]
  },
  {
   "cell_type": "markdown",
   "metadata": {},
   "source": [
    "Totally 8 rows were dropped."
   ]
  },
  {
   "cell_type": "code",
   "execution_count": 13,
   "metadata": {},
   "outputs": [
    {
     "data": {
      "text/plain": [
       "[JARDIM DA PENHA, MATA DA PRAIA, PONTAL DE CAMBURI, REPÚBLICA, GOIABEIRAS, ..., FRADINHOS, NAZARETH, AEROPORTO, ILHAS OCEÂNICAS DE TRINDADE, PARQUE INDUSTRIAL]\n",
       "Length: 81\n",
       "Categories (81, object): [JARDIM DA PENHA, MATA DA PRAIA, PONTAL DE CAMBURI, REPÚBLICA, ..., NAZARETH, AEROPORTO, ILHAS OCEÂNICAS DE TRINDADE, PARQUE INDUSTRIAL]"
      ]
     },
     "execution_count": 13,
     "metadata": {},
     "output_type": "execute_result"
    }
   ],
   "source": [
    "appointments['neighbourhood'].unique()"
   ]
  },
  {
   "cell_type": "markdown",
   "metadata": {},
   "source": [
    "There are 81 different districts, for logistic regression I need to create 81 dummy variables (boolean values for each district). "
   ]
  },
  {
   "cell_type": "code",
   "execution_count": 14,
   "metadata": {},
   "outputs": [
    {
     "data": {
      "text/plain": [
       "(110519, 81)"
      ]
     },
     "execution_count": 14,
     "metadata": {},
     "output_type": "execute_result"
    }
   ],
   "source": [
    "dummies_nbh = pd.get_dummies(appointments['neighbourhood'])\n",
    "dummies_nbh.shape"
   ]
  },
  {
   "cell_type": "code",
   "execution_count": 15,
   "metadata": {},
   "outputs": [],
   "source": [
    "appointments = pd.concat([appointments, dummies_nbh], axis=1)"
   ]
  },
  {
   "cell_type": "markdown",
   "metadata": {},
   "source": [
    "Next we need to deal with the appointment and scheduled days. The best way is to create new variable showing how many days passed since the schedule until appointment. First we need to check if the appointment days are after the schedule, otherwise there are some mistakes in our dataset. "
   ]
  },
  {
   "cell_type": "code",
   "execution_count": 16,
   "metadata": {},
   "outputs": [
    {
     "data": {
      "text/plain": [
       "count                     110519\n",
       "mean      9 days 17:08:49.813027\n",
       "std      15 days 05:51:43.143676\n",
       "min            -7 days +10:10:40\n",
       "25%            -1 days +15:41:32\n",
       "50%              3 days 11:23:20\n",
       "75%      14 days 07:41:34.500000\n",
       "max            178 days 13:19:01\n",
       "Name: waiting_time, dtype: object"
      ]
     },
     "execution_count": 16,
     "metadata": {},
     "output_type": "execute_result"
    }
   ],
   "source": [
    "appointments['waiting_time'] = appointments['appointment_day'] - appointments['scheduled_day']\n",
    "appointments['waiting_time'].describe()"
   ]
  },
  {
   "cell_type": "markdown",
   "metadata": {},
   "source": [
    "There is a lot of negative values over here, at least 25% of all appointments. However, we need to remember that *appointment_day* column doesn't have exact time stamp, only date. It means that every time the appointment is the same day as scheduling, the value will be negative. Let's check our suspicions."
   ]
  },
  {
   "cell_type": "code",
   "execution_count": 17,
   "metadata": {},
   "outputs": [
    {
     "data": {
      "text/html": [
       "<div>\n",
       "<style scoped>\n",
       "    .dataframe tbody tr th:only-of-type {\n",
       "        vertical-align: middle;\n",
       "    }\n",
       "\n",
       "    .dataframe tbody tr th {\n",
       "        vertical-align: top;\n",
       "    }\n",
       "\n",
       "    .dataframe thead th {\n",
       "        text-align: right;\n",
       "    }\n",
       "</style>\n",
       "<table border=\"1\" class=\"dataframe\">\n",
       "  <thead>\n",
       "    <tr style=\"text-align: right;\">\n",
       "      <th></th>\n",
       "      <th>appointment_day</th>\n",
       "      <th>scheduled_day</th>\n",
       "    </tr>\n",
       "  </thead>\n",
       "  <tbody>\n",
       "    <tr>\n",
       "      <th>0</th>\n",
       "      <td>2016-04-29</td>\n",
       "      <td>2016-04-29 18:38:08</td>\n",
       "    </tr>\n",
       "    <tr>\n",
       "      <th>1</th>\n",
       "      <td>2016-04-29</td>\n",
       "      <td>2016-04-29 16:08:27</td>\n",
       "    </tr>\n",
       "    <tr>\n",
       "      <th>2</th>\n",
       "      <td>2016-04-29</td>\n",
       "      <td>2016-04-29 16:19:04</td>\n",
       "    </tr>\n",
       "    <tr>\n",
       "      <th>3</th>\n",
       "      <td>2016-04-29</td>\n",
       "      <td>2016-04-29 17:29:31</td>\n",
       "    </tr>\n",
       "    <tr>\n",
       "      <th>4</th>\n",
       "      <td>2016-04-29</td>\n",
       "      <td>2016-04-29 16:07:23</td>\n",
       "    </tr>\n",
       "  </tbody>\n",
       "</table>\n",
       "</div>"
      ],
      "text/plain": [
       "  appointment_day       scheduled_day\n",
       "0      2016-04-29 2016-04-29 18:38:08\n",
       "1      2016-04-29 2016-04-29 16:08:27\n",
       "2      2016-04-29 2016-04-29 16:19:04\n",
       "3      2016-04-29 2016-04-29 17:29:31\n",
       "4      2016-04-29 2016-04-29 16:07:23"
      ]
     },
     "execution_count": 17,
     "metadata": {},
     "output_type": "execute_result"
    }
   ],
   "source": [
    "appointments[['appointment_day', 'scheduled_day']].head()"
   ]
  },
  {
   "cell_type": "code",
   "execution_count": 18,
   "metadata": {},
   "outputs": [
    {
     "data": {
      "text/plain": [
       "0   -1 days +05:21:52\n",
       "1   -1 days +07:51:33\n",
       "2   -1 days +07:40:56\n",
       "3   -1 days +06:30:29\n",
       "4   -1 days +07:52:37\n",
       "dtype: timedelta64[ns]"
      ]
     },
     "execution_count": 18,
     "metadata": {},
     "output_type": "execute_result"
    }
   ],
   "source": [
    "(appointments['appointment_day'] - appointments['scheduled_day']).head()"
   ]
  },
  {
   "cell_type": "markdown",
   "metadata": {},
   "source": [
    "Even though the scheduling and appointment are the same day, the value in days is negative.\n",
    "\n",
    "The solution is simple. We need to convert *waiting_time* column to numeric showing number of days, then add 1 day to each record and remove any value smaller than zero. "
   ]
  },
  {
   "cell_type": "code",
   "execution_count": 19,
   "metadata": {},
   "outputs": [
    {
     "data": {
      "text/plain": [
       "count    110514.000000\n",
       "mean         10.184438\n",
       "std          15.255288\n",
       "min           0.000000\n",
       "25%           0.000000\n",
       "50%           4.000000\n",
       "75%          15.000000\n",
       "max         179.000000\n",
       "Name: waiting_time, dtype: float64"
      ]
     },
     "execution_count": 19,
     "metadata": {},
     "output_type": "execute_result"
    }
   ],
   "source": [
    "appointments['waiting_time'] = appointments['waiting_time'].dt.days\n",
    "appointments['waiting_time'] = appointments['waiting_time'] + 1\n",
    "appointments = appointments[appointments['waiting_time'] >= 0]\n",
    "appointments['waiting_time'].describe()"
   ]
  },
  {
   "cell_type": "markdown",
   "metadata": {},
   "source": [
    "Now we have all columns needed to do further analysis and predictions. Let's drop unnecessary columns."
   ]
  },
  {
   "cell_type": "code",
   "execution_count": 20,
   "metadata": {},
   "outputs": [],
   "source": [
    "appointments = appointments.drop(['patient_id', 'appointment_id', 'scheduled_day', 'appointment_day', 'neighbourhood'], axis=1)"
   ]
  },
  {
   "cell_type": "markdown",
   "metadata": {},
   "source": [
    "## Data exploration\n",
    "\n",
    "Our dataset is ready, now we can take a quick look at our variables and their influence for not showing after appointment."
   ]
  },
  {
   "cell_type": "code",
   "execution_count": 21,
   "metadata": {},
   "outputs": [
    {
     "data": {
      "text/plain": [
       "0    0.798116\n",
       "1    0.201884\n",
       "Name: no_show, dtype: float64"
      ]
     },
     "execution_count": 21,
     "metadata": {},
     "output_type": "execute_result"
    }
   ],
   "source": [
    "appointments['no_show'].value_counts(normalize=True)"
   ]
  },
  {
   "cell_type": "markdown",
   "metadata": {},
   "source": [
    "Around 20% of all appointments finished with patient not showing up. The data is quite imbalanced, we have to consider that when we will create models. "
   ]
  },
  {
   "cell_type": "code",
   "execution_count": 22,
   "metadata": {},
   "outputs": [
    {
     "data": {
      "text/plain": [
       "0    0.348915\n",
       "2    0.060843\n",
       "4    0.047867\n",
       "1    0.047170\n",
       "7    0.044393\n",
       "Name: waiting_time, dtype: float64"
      ]
     },
     "execution_count": 22,
     "metadata": {},
     "output_type": "execute_result"
    }
   ],
   "source": [
    "appointments['waiting_time'].value_counts(normalize=True).head()"
   ]
  },
  {
   "cell_type": "markdown",
   "metadata": {},
   "source": [
    "35% of patients have their appointment **the same day** as it was scheduled."
   ]
  },
  {
   "cell_type": "code",
   "execution_count": 23,
   "metadata": {},
   "outputs": [
    {
     "data": {
      "image/png": "[encoded data removed]",
      "text/plain": [
       "<Figure size 1152x792 with 7 Axes>"
      ]
     },
     "metadata": {},
     "output_type": "display_data"
    }
   ],
   "source": [
    "categorical_cols = ['gender', 'scholarship', 'hypertension', 'diabetes', \n",
    "                    'alcoholism', 'handicap', 'sms_received']\n",
    "fig = plt.figure(figsize=(16, 11))\n",
    "\n",
    "for index, col in enumerate(categorical_cols):\n",
    "    ax = fig.add_subplot(3, 3, index+1)\n",
    "    sns.barplot(x=col, y=\"no_show\", data=appointments)"
   ]
  },
  {
   "cell_type": "markdown",
   "metadata": {},
   "source": [
    "Gender and alcoholism doesn't have real impact on whether patient will show up for appointment or not. It's a little strange that alcoholism doesn't affect the results. \n",
    "\n",
    "People with financial aid from the government are more likely to skip their visit. \n",
    "\n",
    "People with hypertension, diabetes and those handicapped are more likely to arrive for the appointment. It makes sense, they already have some issues requiring more attention to their health condition.\n",
    "\n",
    "What's interesting, people who received text messages reminding about appointment are less likely to come. However, in this case I think we need to filter out situations when the appointment is the same day as scheduling. Hospitals probably don't send SMS when that is the case. Let's check if that will change anything. We'll set minimal waiting time for 3 days. "
   ]
  },
  {
   "cell_type": "code",
   "execution_count": 24,
   "metadata": {},
   "outputs": [
    {
     "name": "stdout",
     "output_type": "stream",
     "text": [
      "0.5430714660585989\n"
     ]
    },
    {
     "data": {
      "text/plain": [
       "0    0.703351\n",
       "1    0.296649\n",
       "Name: no_show, dtype: float64"
      ]
     },
     "execution_count": 24,
     "metadata": {},
     "output_type": "execute_result"
    },
    {
     "data": {
      "image/png": "[encoded data removed]",
      "text/plain": [
       "<Figure size 1152x792 with 7 Axes>"
      ]
     },
     "metadata": {},
     "output_type": "display_data"
    }
   ],
   "source": [
    "categorical_cols = ['gender', 'scholarship', 'hypertension', 'diabetes', \n",
    "                    'alcoholism', 'handicap', 'sms_received']\n",
    "fig = plt.figure(figsize=(16, 11))\n",
    "\n",
    "for index, col in enumerate(categorical_cols):\n",
    "    ax = fig.add_subplot(3, 3, index+1)\n",
    "    sns.barplot(x=col, y=\"no_show\", data=appointments[appointments['waiting_time'] >= 3])\n",
    "    \n",
    "# Check how big proportion of our dataset will fall here and proportion of people not showing up\n",
    "print(len(appointments[appointments['waiting_time'] >= 3]) / len(appointments))\n",
    "appointments[appointments['waiting_time'] >= 3]['no_show'].value_counts(normalize=True)"
   ]
  },
  {
   "cell_type": "markdown",
   "metadata": {},
   "source": [
    "My assumptions were true. When we filter out short waiting time (hospitals probably don't send SMS then), you can see that sending reminders by phone increased proportion of people showing up for appointment. Also, you can see that people with alcoholism are less likely to show up for appointments, which is true with our intuition. \n",
    "\n",
    "In our dataset only 54% of people wait for their appointment 3 days or longer. In this group percentage of people not showing up increased from 0.208 to 0.297.\n",
    "\n",
    "## Building models\n",
    "### Training and testing datasets"
   ]
  },
  {
   "cell_type": "code",
   "execution_count": 25,
   "metadata": {},
   "outputs": [],
   "source": [
    "from sklearn.model_selection import train_test_split\n",
    "features = appointments.drop(\"no_show\", axis=1)\n",
    "target = appointments['no_show']\n",
    "train_features, test_features, train_target, test_target = train_test_split(\n",
    "    features, target, test_size=0.25, random_state=42195)"
   ]
  },
  {
   "cell_type": "markdown",
   "metadata": {},
   "source": [
    "### Logistic regression"
   ]
  },
  {
   "cell_type": "code",
   "execution_count": 26,
   "metadata": {},
   "outputs": [],
   "source": [
    "from sklearn.linear_model import LogisticRegression\n",
    "from sklearn.metrics import auc\n",
    "from sklearn.metrics import mean_squared_error\n",
    "from sklearn.metrics import accuracy_score"
   ]
  },
  {
   "cell_type": "code",
   "execution_count": 27,
   "metadata": {},
   "outputs": [
    {
     "name": "stdout",
     "output_type": "stream",
     "text": [
      "0.798689782475\n",
      "0.201310217525\n",
      "0.448676071933\n"
     ]
    }
   ],
   "source": [
    "lr = LogisticRegression()\n",
    "lr.fit(train_features, train_target)\n",
    "predictions = lr.predict(test_features)\n",
    "acc_lr = accuracy_score(test_target, predictions)\n",
    "mse_lr = mean_squared_error(test_target, predictions)\n",
    "rmse_lr = np.sqrt(mse_lr)\n",
    "print(acc_lr)\n",
    "print(mse_lr)\n",
    "print(rmse_lr)"
   ]
  },
  {
   "cell_type": "markdown",
   "metadata": {},
   "source": [
    "Accuracy score of basic logistic model is 0.7987."
   ]
  },
  {
   "cell_type": "code",
   "execution_count": 28,
   "metadata": {},
   "outputs": [],
   "source": [
    "scores = pd.DataFrame(columns=['Model', 'Accuracy', 'MSE', 'RMSE'])  # DataFrame containing all scores\n",
    "scores = scores.append({\n",
    "    'Model' : 'Logistic Regression' , \n",
    "    'Accuracy' : acc_lr,\n",
    "    'MSE': mse_lr,\n",
    "    'RMSE': rmse_lr\n",
    "    }, ignore_index=True)"
   ]
  },
  {
   "cell_type": "code",
   "execution_count": 29,
   "metadata": {},
   "outputs": [
    {
     "name": "stdout",
     "output_type": "stream",
     "text": [
      "0.663831481414\n",
      "0.336168518586\n",
      "0.579800412716\n"
     ]
    }
   ],
   "source": [
    "# Logistic regression with class balanced\n",
    "lr = LogisticRegression(class_weight='balanced')\n",
    "lr.fit(train_features, train_target)\n",
    "predictions = lr.predict(test_features)\n",
    "acc_lr_bal = accuracy_score(test_target, predictions)\n",
    "mse_lr_bal = mean_squared_error(test_target, predictions)\n",
    "rmse_lr_bal = np.sqrt(mse_lr_bal)\n",
    "print(acc_lr_bal)\n",
    "print(mse_lr_bal)\n",
    "print(rmse_lr_bal)\n",
    "scores = scores.append({\n",
    "    'Model' : 'Logistic Regression Balanced' , \n",
    "    'Accuracy' : acc_lr_bal,\n",
    "    'MSE': mse_lr_bal,\n",
    "    'RMSE': rmse_lr_bal\n",
    "    }, ignore_index=True)"
   ]
  },
  {
   "cell_type": "code",
   "execution_count": 30,
   "metadata": {},
   "outputs": [
    {
     "name": "stdout",
     "output_type": "stream",
     "text": [
      "{1: 0.79868978247493572, 2: 0.8012957399833508, 3: 0.8015129031090521, 4: 0.8016576785261863, 5: 0.80176626008903684, 6: 0.80173006623475329, 7: 0.80187484165188749, 8: 0.80191103550617104, 9: 0.80191103550617104, 10: 0.80191103550617104, 11: 0.80191103550617104, 12: 0.80191103550617104, 13: 0.80191103550617104, 14: 0.80191103550617104, 15: 0.80191103550617104, 16: 0.80191103550617104, 17: 0.80191103550617104, 18: 0.80191103550617104, 19: 0.80191103550617104}\n",
      "{1: 0.20131021752506426, 2: 0.19870426001664918, 3: 0.19848709689094793, 4: 0.19834232147381375, 5: 0.19823373991096313, 6: 0.19826993376524665, 7: 0.19812515834811248, 8: 0.19808896449382896, 9: 0.19808896449382896, 10: 0.19808896449382896, 11: 0.19808896449382896, 12: 0.19808896449382896, 13: 0.19808896449382896, 14: 0.19808896449382896, 15: 0.19808896449382896, 16: 0.19808896449382896, 17: 0.19808896449382896, 18: 0.19808896449382896, 19: 0.19808896449382896}\n"
     ]
    }
   ],
   "source": [
    "# Logistic regression with selection of penalties\n",
    "penalty_accuracy = {}\n",
    "penalty_mse = {}\n",
    "for i in range(1, 20):\n",
    "    penalty = {\n",
    "        0: i,\n",
    "        1: 1,\n",
    "    }\n",
    "    lr = LogisticRegression(class_weight=penalty)\n",
    "    lr.fit(train_features, train_target)\n",
    "    predictions = lr.predict(test_features)\n",
    "    acc = accuracy_score(test_target, predictions)\n",
    "    mse = mean_squared_error(test_target, predictions)\n",
    "    penalty_accuracy[i] = acc\n",
    "    penalty_mse[i] = mse\n",
    "print(penalty_accuracy)\n",
    "print(penalty_mse)"
   ]
  },
  {
   "cell_type": "markdown",
   "metadata": {},
   "source": [
    "After reaching accuracy score of 0.8019 with penalty score = 8 there is no further improvement in the model. It's a little suspicious, we should check the predictions. "
   ]
  },
  {
   "cell_type": "code",
   "execution_count": 31,
   "metadata": {},
   "outputs": [
    {
     "data": {
      "text/plain": [
       "0"
      ]
     },
     "execution_count": 31,
     "metadata": {},
     "output_type": "execute_result"
    }
   ],
   "source": [
    "sum(predictions)"
   ]
  },
  {
   "cell_type": "markdown",
   "metadata": {},
   "source": [
    "Our data is imbalanced (more people show up for the appointments) and that caused that 'good' model just assumes that there are zero no-shows. Thanks to that it achieved high accuracy. This approach is clearly wrong and we have to fix that. We can down-sample patients in our starting dataset and then start from the scratch."
   ]
  },
  {
   "cell_type": "code",
   "execution_count": 32,
   "metadata": {},
   "outputs": [
    {
     "name": "stdout",
     "output_type": "stream",
     "text": [
      "22311\n"
     ]
    },
    {
     "data": {
      "text/plain": [
       "3.953341401102595"
      ]
     },
     "execution_count": 32,
     "metadata": {},
     "output_type": "execute_result"
    }
   ],
   "source": [
    "print(len(appointments[appointments['no_show'] == 1]))\n",
    "len(appointments[appointments['no_show'] == 0]) / len(appointments[appointments['no_show'] == 1])"
   ]
  },
  {
   "cell_type": "markdown",
   "metadata": {},
   "source": [
    "There is almost 4 times more patient that show up for their appointments than no-shows. Because we have over 100k rows, we can get smaller sample and still get good results. "
   ]
  },
  {
   "cell_type": "code",
   "execution_count": 33,
   "metadata": {},
   "outputs": [],
   "source": [
    "from sklearn.utils import resample\n",
    "show = appointments[appointments['no_show'] == 0]\n",
    "no_show = appointments[appointments['no_show'] == 1]\n",
    "show_downsample = resample(show, \n",
    "                           replace=True,\n",
    "                           n_samples=len(appointments[appointments['no_show'] == 1]),\n",
    "                           random_state=42195)"
   ]
  },
  {
   "cell_type": "code",
   "execution_count": 34,
   "metadata": {},
   "outputs": [],
   "source": [
    "appointments_downsample = pd.concat([show_downsample, no_show])\n",
    "features = appointments_downsample.drop('no_show', axis=1)\n",
    "target = appointments_downsample['no_show']\n",
    "train_features, test_features, train_target, test_target = train_test_split(\n",
    "    features, target, test_size=0.25, random_state=42195)"
   ]
  },
  {
   "cell_type": "markdown",
   "metadata": {},
   "source": [
    "Now we can start building models from the beginning."
   ]
  },
  {
   "cell_type": "code",
   "execution_count": 35,
   "metadata": {},
   "outputs": [
    {
     "name": "stdout",
     "output_type": "stream",
     "text": [
      "0.635711724632\n",
      "0.364288275368\n",
      "0.603562983762\n"
     ]
    }
   ],
   "source": [
    "lr = LogisticRegression()\n",
    "lr.fit(train_features, train_target)\n",
    "predictions = lr.predict(test_features)\n",
    "acc_lr = accuracy_score(test_target, predictions)\n",
    "mse_lr = mean_squared_error(test_target, predictions)\n",
    "rmse_lr = np.sqrt(mse_lr)\n",
    "print(acc_lr)\n",
    "print(mse_lr)\n",
    "print(rmse_lr)"
   ]
  },
  {
   "cell_type": "markdown",
   "metadata": {},
   "source": [
    "This time our accuracy for basic logistic regression dropped to 0.6357 compared to 0.7987 earlier, but it doesn't mean our model is worse, especially because now the dataset is more balanced."
   ]
  },
  {
   "cell_type": "code",
   "execution_count": 36,
   "metadata": {},
   "outputs": [],
   "source": [
    "scores = pd.DataFrame(columns=['Model', 'Accuracy', 'MSE', 'RMSE'])  # DataFrame containing all scores\n",
    "scores = scores.append({\n",
    "    'Model' : 'Logistic Regression' , \n",
    "    'Accuracy' : acc_lr,\n",
    "    'MSE': mse_lr,\n",
    "    'RMSE': rmse_lr\n",
    "    }, ignore_index=True)"
   ]
  },
  {
   "cell_type": "code",
   "execution_count": 37,
   "metadata": {},
   "outputs": [
    {
     "name": "stdout",
     "output_type": "stream",
     "text": [
      "0.635891000359\n",
      "0.364108999641\n",
      "0.603414450972\n"
     ]
    }
   ],
   "source": [
    "# Logistic regression with class balanced\n",
    "lr = LogisticRegression(class_weight='balanced')\n",
    "lr.fit(train_features, train_target)\n",
    "predictions = lr.predict(test_features)\n",
    "acc_lr_bal = accuracy_score(test_target, predictions)\n",
    "mse_lr_bal = mean_squared_error(test_target, predictions)\n",
    "rmse_lr_bal = np.sqrt(mse_lr_bal)\n",
    "print(acc_lr_bal)\n",
    "print(mse_lr_bal)\n",
    "print(rmse_lr_bal)\n",
    "scores = scores.append({\n",
    "    'Model' : 'Logistic Regression Balanced' , \n",
    "    'Accuracy' : acc_lr_bal,\n",
    "    'MSE': mse_lr_bal,\n",
    "    'RMSE': rmse_lr_bal\n",
    "    }, ignore_index=True)"
   ]
  },
  {
   "cell_type": "markdown",
   "metadata": {},
   "source": [
    "## K-Nearest Neighbours"
   ]
  },
  {
   "cell_type": "code",
   "execution_count": 38,
   "metadata": {},
   "outputs": [
    {
     "name": "stdout",
     "output_type": "stream",
     "text": [
      "0.667533166009\n",
      "0.332466833991\n",
      "19\n"
     ]
    }
   ],
   "source": [
    "from sklearn.neighbors import KNeighborsClassifier\n",
    "\n",
    "highest_acc_neighbours = 0\n",
    "knn_accuracy = 0\n",
    "knn_mse = 0\n",
    "for i in range(1, 20):\n",
    "    knn = KNeighborsClassifier(n_neighbors=i)\n",
    "    knn.fit(train_features, train_target)\n",
    "    predictions = knn.predict(test_features)\n",
    "    acc = accuracy_score(test_target, predictions)\n",
    "    mse = mean_squared_error(test_target, predictions)\n",
    "    if acc > knn_accuracy:\n",
    "        knn_accuracy = acc\n",
    "        highest_acc_neighbours = i\n",
    "        knn_mse = mse\n",
    "print(knn_accuracy)\n",
    "print(knn_mse)\n",
    "print(highest_acc_neighbours) "
   ]
  },
  {
   "cell_type": "code",
   "execution_count": 39,
   "metadata": {},
   "outputs": [],
   "source": [
    "scores = scores.append({\n",
    "    'Model' : 'K-Nearest Neighbours' , \n",
    "    'Accuracy' : knn_accuracy,\n",
    "    'MSE': knn_mse,\n",
    "    'RMSE': np.sqrt(knn_mse)\n",
    "    }, ignore_index=True)"
   ]
  },
  {
   "cell_type": "markdown",
   "metadata": {},
   "source": [
    "## Random Forests"
   ]
  },
  {
   "cell_type": "code",
   "execution_count": 40,
   "metadata": {},
   "outputs": [
    {
     "name": "stdout",
     "output_type": "stream",
     "text": [
      "0.674704195052\n",
      "0.325295804948\n",
      "0.570347091645\n"
     ]
    }
   ],
   "source": [
    "from sklearn.ensemble import RandomForestClassifier\n",
    "\n",
    "rf = RandomForestClassifier(n_estimators=300, max_depth=10, random_state=0)\n",
    "rf.fit(train_features, train_target)\n",
    "predictions = rf.predict(test_features)\n",
    "\n",
    "acc_rf = accuracy_score(test_target, predictions)\n",
    "mse_rf = mean_squared_error(test_target, predictions)\n",
    "rmse_rf = np.sqrt(mse_rf)\n",
    "print(acc_rf)\n",
    "print(mse_rf)\n",
    "print(rmse_rf)\n",
    "scores = scores.append({\n",
    "    'Model' : 'Random Forests' , \n",
    "    'Accuracy' : acc_rf,\n",
    "    'MSE': mse_rf,\n",
    "    'RMSE': rmse_rf\n",
    "    }, ignore_index=True)"
   ]
  },
  {
   "cell_type": "markdown",
   "metadata": {},
   "source": [
    "## Support Vector Machines"
   ]
  },
  {
   "cell_type": "code",
   "execution_count": 41,
   "metadata": {},
   "outputs": [
    {
     "name": "stdout",
     "output_type": "stream",
     "text": [
      "0.57269630692\n",
      "0.42730369308\n",
      "0.65368470464\n"
     ]
    }
   ],
   "source": [
    "from sklearn.svm import LinearSVC\n",
    "\n",
    "svm = LinearSVC()\n",
    "svm.fit(train_features, train_target)\n",
    "predictions = svm.predict(test_features)\n",
    "\n",
    "acc_svm = accuracy_score(test_target, predictions)\n",
    "mse_svm = mean_squared_error(test_target, predictions)\n",
    "rmse_svm = np.sqrt(mse_svm)\n",
    "print(acc_svm)\n",
    "print(mse_svm)\n",
    "print(rmse_svm)\n",
    "scores = scores.append({\n",
    "    'Model' : 'Support Vector Machines' , \n",
    "    'Accuracy' : acc_svm,\n",
    "    'MSE': mse_svm,\n",
    "    'RMSE': rmse_svm\n",
    "    }, ignore_index=True)"
   ]
  },
  {
   "cell_type": "code",
   "execution_count": 42,
   "metadata": {},
   "outputs": [
    {
     "data": {
      "text/html": [
       "<div>\n",
       "<style scoped>\n",
       "    .dataframe tbody tr th:only-of-type {\n",
       "        vertical-align: middle;\n",
       "    }\n",
       "\n",
       "    .dataframe tbody tr th {\n",
       "        vertical-align: top;\n",
       "    }\n",
       "\n",
       "    .dataframe thead th {\n",
       "        text-align: right;\n",
       "    }\n",
       "</style>\n",
       "<table border=\"1\" class=\"dataframe\">\n",
       "  <thead>\n",
       "    <tr style=\"text-align: right;\">\n",
       "      <th></th>\n",
       "      <th>Model</th>\n",
       "      <th>Accuracy</th>\n",
       "      <th>MSE</th>\n",
       "      <th>RMSE</th>\n",
       "    </tr>\n",
       "  </thead>\n",
       "  <tbody>\n",
       "    <tr>\n",
       "      <th>0</th>\n",
       "      <td>Logistic Regression</td>\n",
       "      <td>0.635712</td>\n",
       "      <td>0.364288</td>\n",
       "      <td>0.603563</td>\n",
       "    </tr>\n",
       "    <tr>\n",
       "      <th>1</th>\n",
       "      <td>Logistic Regression Balanced</td>\n",
       "      <td>0.635891</td>\n",
       "      <td>0.364109</td>\n",
       "      <td>0.603414</td>\n",
       "    </tr>\n",
       "    <tr>\n",
       "      <th>2</th>\n",
       "      <td>K-Nearest Neighbours</td>\n",
       "      <td>0.667533</td>\n",
       "      <td>0.332467</td>\n",
       "      <td>0.576599</td>\n",
       "    </tr>\n",
       "    <tr>\n",
       "      <th>3</th>\n",
       "      <td>Random Forests</td>\n",
       "      <td>0.674704</td>\n",
       "      <td>0.325296</td>\n",
       "      <td>0.570347</td>\n",
       "    </tr>\n",
       "    <tr>\n",
       "      <th>4</th>\n",
       "      <td>Support Vector Machines</td>\n",
       "      <td>0.572696</td>\n",
       "      <td>0.427304</td>\n",
       "      <td>0.653685</td>\n",
       "    </tr>\n",
       "  </tbody>\n",
       "</table>\n",
       "</div>"
      ],
      "text/plain": [
       "                          Model  Accuracy       MSE      RMSE\n",
       "0           Logistic Regression  0.635712  0.364288  0.603563\n",
       "1  Logistic Regression Balanced  0.635891  0.364109  0.603414\n",
       "2          K-Nearest Neighbours  0.667533  0.332467  0.576599\n",
       "3                Random Forests  0.674704  0.325296  0.570347\n",
       "4       Support Vector Machines  0.572696  0.427304  0.653685"
      ]
     },
     "execution_count": 42,
     "metadata": {},
     "output_type": "execute_result"
    }
   ],
   "source": [
    "scores"
   ]
  },
  {
   "cell_type": "markdown",
   "metadata": {},
   "source": [
    "The best model is **Random Forests**, which returned accuracy score of 0.674704. "
   ]
  },
  {
   "cell_type": "code",
   "execution_count": null,
   "metadata": {},
   "outputs": [],
   "source": []
  }
 ],
 "metadata": {
  "kernelspec": {
   "display_name": "Python 3",
   "language": "python",
   "name": "python3"
  },
  "language_info": {
   "codemirror_mode": {
    "name": "ipython",
    "version": 3
   },
   "file_extension": ".py",
   "mimetype": "text/x-python",
   "name": "python",
   "nbconvert_exporter": "python",
   "pygments_lexer": "ipython3",
   "version": "3.6.4"
  }
 },
 "nbformat": 4,
 "nbformat_minor": 2
}
